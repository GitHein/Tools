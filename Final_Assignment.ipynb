{
    "cells": [
        {
            "metadata": {
                "collapsed": true
            },
            "cell_type": "markdown",
            "source": "# My Jupyter Notebook on IBM Watson Studio"
        },
        {
            "metadata": {},
            "cell_type": "markdown",
            "source": "**H vd Westhuizen**\n\nData Analyst/Scientist"
        },
        {
            "metadata": {},
            "cell_type": "markdown",
            "source": "_I am interested in Data Science because I would love to contribute towards affordable and quality Data Science in the future_"
        },
        {
            "metadata": {},
            "cell_type": "markdown",
            "source": "### The Cell below should print 'Hi There!'"
        },
        {
            "metadata": {},
            "cell_type": "code",
            "source": "print(\"Hi There!\")",
            "execution_count": 1,
            "outputs": [
                {
                    "output_type": "stream",
                    "text": "Hi There!\n",
                    "name": "stdout"
                }
            ]
        },
        {
            "metadata": {},
            "cell_type": "markdown",
            "source": "> You miss 100% of the shots you don't take\n>\n - List Item 1\n - List Item 2\n\n<hr>\n\nLink [My Github](https://github.com/GitHein/Tools/tree/master)"
        },
        {
            "metadata": {},
            "cell_type": "code",
            "source": "",
            "execution_count": null,
            "outputs": []
        }
    ],
    "metadata": {
        "kernelspec": {
            "name": "python3",
            "display_name": "Python 3.7",
            "language": "python"
        },
        "language_info": {
            "name": "python",
            "version": "3.7.10",
            "mimetype": "text/x-python",
            "codemirror_mode": {
                "name": "ipython",
                "version": 3
            },
            "pygments_lexer": "ipython3",
            "nbconvert_exporter": "python",
            "file_extension": ".py"
        }
    },
    "nbformat": 4,
    "nbformat_minor": 1
}